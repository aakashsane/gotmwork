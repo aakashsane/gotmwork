{
 "cells": [
  {
   "cell_type": "code",
   "execution_count": 1,
   "metadata": {},
   "outputs": [],
   "source": [
    "import sys\n",
    "import os\n",
    "import shutil\n",
    "sys.path.append(os.environ['GOTMWORK_ROOT']+'/tools', )\n",
    "from gotmanalysis import *\n",
    "np.seterr(all='raise')\n",
    "%matplotlib inline"
   ]
  },
  {
   "cell_type": "code",
   "execution_count": 2,
   "metadata": {},
   "outputs": [],
   "source": [
    "timetag = '20080701-20080731'\n",
    "# timetag = '20090101-20090131'\n",
    "casename = 'JRA55-do_Global'\n",
    "s1data_root = '/Volumes/Qing_Work/work/gotmrun/'+casename+'/VR1m_DT600s_'+timetag"
   ]
  },
  {
   "cell_type": "code",
   "execution_count": 3,
   "metadata": {},
   "outputs": [
    {
     "name": "stdout",
     "output_type": "stream",
     "text": [
      "  0.00 %\n",
      "  5.11 %\n",
      " 10.22 %\n",
      " 15.34 %\n",
      " 20.45 %\n",
      " 25.56 %\n",
      " 30.67 %\n",
      " 35.79 %\n",
      " 40.90 %\n",
      " 46.01 %\n",
      " 51.12 %\n",
      " 56.24 %\n",
      " 61.35 %\n",
      " 66.46 %\n",
      " 71.57 %\n",
      " 76.69 %\n",
      " 81.80 %\n",
      " 86.91 %\n",
      " 92.02 %\n",
      " 97.14 %\n"
     ]
    }
   ],
   "source": [
    "tmname = 'KPP-CVMix'\n",
    "basepath = s1data_root+'/'+tmname\n",
    "loclist = sorted(os.listdir(basepath))\n",
    "# save data\n",
    "pathlist = [basepath+'/'+x+'/gotm_out_s1.nc' for x in loclist]\n",
    "godmobj = GOTMOutputDataMap(pathlist)\n",
    "filter_list = []\n",
    "for i in np.arange(godmobj.ncase):\n",
    "    if np.mod(i, 100) == 0:\n",
    "        print('{:6.2f} %'.format(i/godmobj.ncase*100.0))\n",
    "    tmp = GOTMOutputData(godmobj._paths[i], init_time_location=False)\n",
    "    try:\n",
    "        tmp.open()\n",
    "        rho = tmp.dataset.variables['rho'][:]\n",
    "        tmp.close()\n",
    "    except FloatingPointError:\n",
    "        filter_list.append(i)"
   ]
  },
  {
   "cell_type": "code",
   "execution_count": 4,
   "metadata": {},
   "outputs": [
    {
     "name": "stdout",
     "output_type": "stream",
     "text": [
      "Removing the following directories...\n"
     ]
    }
   ],
   "source": [
    "print('Removing the following directories...')\n",
    "tmlist = sorted(os.listdir(s1data_root))\n",
    "ntm = len(tmlist)\n",
    "for i in filter_list:\n",
    "    locname = loclist[i]\n",
    "    for tm in tmlist:\n",
    "        filter_dir = s1data_root+'/'+tm+'/'+locname\n",
    "        print(filter_dir)\n",
    "        shutil.rmtree(filter_dir)"
   ]
  },
  {
   "cell_type": "code",
   "execution_count": null,
   "metadata": {},
   "outputs": [],
   "source": []
  }
 ],
 "metadata": {
  "kernelspec": {
   "display_name": "Python 3",
   "language": "python",
   "name": "python3"
  },
  "language_info": {
   "codemirror_mode": {
    "name": "ipython",
    "version": 3
   },
   "file_extension": ".py",
   "mimetype": "text/x-python",
   "name": "python",
   "nbconvert_exporter": "python",
   "pygments_lexer": "ipython3",
   "version": "3.6.5"
  }
 },
 "nbformat": 4,
 "nbformat_minor": 2
}
