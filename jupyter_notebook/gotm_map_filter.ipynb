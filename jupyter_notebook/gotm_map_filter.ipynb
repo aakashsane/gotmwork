{
 "cells": [
  {
   "cell_type": "code",
   "execution_count": null,
   "metadata": {},
   "outputs": [],
   "source": [
    "import sys\n",
    "import os\n",
    "import shutil\n",
    "sys.path.append(os.environ['GOTMWORK_ROOT']+'/tools', )\n",
    "from gotmanalysis import *\n",
    "np.seterr(all='raise')\n",
    "%matplotlib inline"
   ]
  },
  {
   "cell_type": "code",
   "execution_count": null,
   "metadata": {},
   "outputs": [],
   "source": [
    "timetag = '20080701-20080731'\n",
    "# timetag = '20090101-20090131'\n",
    "casename = 'COREII_Global'\n",
    "# casename = 'JRA55-do_Global'\n",
    "s1data_root = os.environ['GOTMRUN_ROOT']+'/'+casename+'/VR1m_DT600s_'+timetag"
   ]
  },
  {
   "cell_type": "code",
   "execution_count": null,
   "metadata": {},
   "outputs": [],
   "source": [
    "tmname = 'KPP-CVMix'\n",
    "basepath = s1data_root+'/'+tmname\n",
    "loclist = sorted(os.listdir(basepath))\n",
    "# save data\n",
    "pathlist = [basepath+'/'+x+'/gotm_out_s1.nc' for x in loclist]\n",
    "godmobj = GOTMOutputDataMap(pathlist)\n",
    "filter_list = []\n",
    "for i in np.arange(godmobj.ncase):\n",
    "    if np.mod(i, 100) == 0:\n",
    "        print('{:6.2f} %'.format(i/godmobj.ncase*100.0))\n",
    "    tmp = GOTMOutputData(godmobj._paths[i], init_time_location=False)\n",
    "    try:\n",
    "        tmp.open()\n",
    "        rho = tmp.dataset.variables['rho'][:]\n",
    "        tmp.close()\n",
    "    except FloatingPointError:\n",
    "        filter_list.append(i)\n",
    "print('Done')"
   ]
  },
  {
   "cell_type": "code",
   "execution_count": null,
   "metadata": {},
   "outputs": [],
   "source": [
    "print('Removing the following directories...')\n",
    "tmlist = sorted(os.listdir(s1data_root))\n",
    "ntm = len(tmlist)\n",
    "for i in filter_list:\n",
    "    locname = loclist[i]\n",
    "    for tm in tmlist:\n",
    "        filter_dir = s1data_root+'/'+tm+'/'+locname\n",
    "        print(filter_dir)\n",
    "        shutil.rmtree(filter_dir)"
   ]
  },
  {
   "cell_type": "code",
   "execution_count": null,
   "metadata": {},
   "outputs": [],
   "source": []
  }
 ],
 "metadata": {
  "kernelspec": {
   "display_name": "Python 3",
   "language": "python",
   "name": "python3"
  },
  "language_info": {
   "codemirror_mode": {
    "name": "ipython",
    "version": 3
   },
   "file_extension": ".py",
   "mimetype": "text/x-python",
   "name": "python",
   "nbconvert_exporter": "python",
   "pygments_lexer": "ipython3",
   "version": "3.6.5"
  }
 },
 "nbformat": 4,
 "nbformat_minor": 2
}
