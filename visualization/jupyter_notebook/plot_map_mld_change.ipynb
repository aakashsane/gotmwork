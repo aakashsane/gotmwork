{
 "cells": [
  {
   "cell_type": "code",
   "execution_count": null,
   "metadata": {},
   "outputs": [],
   "source": [
    "import sys\n",
    "import os\n",
    "sys.path.append(os.environ['GOTMWORK_ROOT']+'/tools', )\n",
    "from gotmanalysis import *\n",
    "%matplotlib inline"
   ]
  },
  {
   "cell_type": "code",
   "execution_count": null,
   "metadata": {},
   "outputs": [],
   "source": [
    "# parameters\n",
    "casename = 'JRA55-do_Global_dampV5d'\n",
    "# casename = 'COREII_Global_dampV5d'\n",
    "plot_figure = True\n",
    "apply_mask = True"
   ]
  },
  {
   "cell_type": "code",
   "execution_count": null,
   "metadata": {},
   "outputs": [],
   "source": [
    "# diagnostics\n",
    "var = 'mld_deltaR_mean'\n"
   ]
  },
  {
   "cell_type": "code",
   "execution_count": null,
   "metadata": {},
   "outputs": [],
   "source": [
    "# lists\n",
    "month_labels = ['JAN', 'JUL']\n",
    "timetag_list = ['20090101-20090131',\n",
    "                '20080701-20080731']\n",
    "nt = len(timetag_list)\n",
    "turbmethod_list = ['KPP-CVMix',\n",
    "                   'KPPLT-ENTR',\n",
    "                   'EPBL',\n",
    "                   'EPBL-LT',\n",
    "                   'SMC',\n",
    "                   'SMCLT']\n",
    "legend_list = ['KPP-CVMix',\n",
    "               'KPPLT-LF17',\n",
    "               'ePBL',\n",
    "               'ePBL-LT',\n",
    "               'SMC-KC94',\n",
    "               'SMCLT-H15']\n",
    "nm = len(turbmethod_list)\n",
    "label_list = ['(a) KPPLT-LF17 \\n vs. KPP-CVMix',\n",
    "              '(b) ePBL-LT \\n vs. ePBL',\n",
    "              '(c) SMCLT-H15 \\n vs. SMC-KC94',\n",
    "              '(d) KPPLT-LF17 \\n vs. KPP-CVMix',\n",
    "              '(e) ePBL-LT \\n vs. ePBL',\n",
    "              '(f) SMCLT-H15 \\n vs. SMC-KC94']"
   ]
  },
  {
   "cell_type": "code",
   "execution_count": null,
   "metadata": {},
   "outputs": [],
   "source": [
    "# path\n",
    "fig_root = os.environ['GOTMFIG_ROOT']+'/'+casename\n",
    "os.makedirs(fig_root, exist_ok=True)\n",
    "figname = fig_root+'/fig_mld_change.png'"
   ]
  },
  {
   "cell_type": "code",
   "execution_count": null,
   "metadata": {},
   "outputs": [],
   "source": [
    "# get diagnostics\n",
    "mld_arr = []\n",
    "lon_arr = []\n",
    "lat_arr = []\n",
    "name_arr = []\n",
    "units_arr = []\n",
    "for j in np.arange(nt):\n",
    "    timetag = timetag_list[j]\n",
    "    s2data_root = os.environ['GOTMFIG_ROOT']+'/data/'+casename+'/VR1m_DT600s_'+timetag\n",
    "    for i in np.arange(nm):\n",
    "        tmname = turbmethod_list[i]\n",
    "        print(tmname)\n",
    "        s2data_name = s2data_root+'/data_'+var+'_'+tmname+'.npz'\n",
    "        mask_name = s2data_root+'/mask_'+tmname+'.npz'\n",
    "        # read data\n",
    "        gmobj = GOTMMap().load(s2data_name)\n",
    "        if apply_mask:\n",
    "            # read mask\n",
    "            gmobj_mask = GOTMMap().load(mask_name)\n",
    "            # apply mask\n",
    "            gmobj.masked(gmobj_mask)\n",
    "        if i == 0:\n",
    "            nloc = len(gmobj.data)\n",
    "            mld = np.zeros([nm, nloc])\n",
    "            lon = gmobj.lon\n",
    "            lat = gmobj.lat\n",
    "            name = gmobj.name\n",
    "            units = gmobj.units\n",
    "        mld[i,:] = gmobj.data\n",
    "    mld_arr.append(mld)\n",
    "    lon_arr.append(lon)\n",
    "    lat_arr.append(lat)\n",
    "    name_arr.append(name)\n",
    "    units_arr.append(units)\n",
    "    "
   ]
  },
  {
   "cell_type": "code",
   "execution_count": null,
   "metadata": {
    "scrolled": false
   },
   "outputs": [],
   "source": [
    "if plot_figure:\n",
    "    # create figure\n",
    "    nrow = 3\n",
    "    fig_width = 12\n",
    "    fig_height = 7\n",
    "\n",
    "    # plot figure\n",
    "    f, axarr = plt.subplots(nrow, 2, sharex='col')\n",
    "    f.set_size_inches(fig_width, fig_height)\n",
    "\n",
    "    levels1 = list(np.arange(21)*2)\n",
    "    for j in np.arange(nt):\n",
    "        for i in np.arange(int(nm/2)):\n",
    "        # plot figure\n",
    "            k = int(nt*i)\n",
    "            gmdata = (mld_arr[j][k+1,:]/mld_arr[j][k,:] - 1.0) * 100.0\n",
    "            gmobj = GOTMMap(data=gmdata, lon=lon_arr[j], lat=lat_arr[j], name=name_arr[j], units=units_arr[j])\n",
    "            im1 = gmobj.plot(axis=axarr[i,j], levels=levels1, add_colorbar=False, cmap='afmhot_r')\n",
    "            axarr[i,j].text(0.02, 0.94, label_list[i+3*j], transform=axarr[i,j].transAxes,\n",
    "                             fontsize=11, color='k', fontweight='bold', va='top',\n",
    "                             bbox=dict(boxstyle=\"square\",ec='k',fc='w'))\n",
    "            if i == 0:\n",
    "                axarr[i,j].text(0.5, 1.15, month_labels[j], transform=axarr[i,j].transAxes,\n",
    "                             fontsize=11, color='k', fontweight='bold', ha='center', va='top')\n",
    "\n",
    "    # reduce margin\n",
    "    plt.tight_layout()\n",
    "\n",
    "    # colorbar\n",
    "    plt.subplots_adjust(right=0.95)\n",
    "    plt.subplots_adjust(top=0.95)\n",
    "    cb_ticks1 = list(np.arange(5)*10)\n",
    "    cb_ticks_labels1 = ['{:d} %'.format(cb_ticks1[i]) for i in np.arange(5)]\n",
    "    cax1 = plt.axes([0.85, 0.05, 0.1, 0.9])\n",
    "    cax1.set_visible(False)\n",
    "    cb1 = plt.colorbar(im1, ax=cax1, ticks=cb_ticks1)\n",
    "    cb1.ax.set_yticklabels(cb_ticks_labels1)\n",
    "    \n",
    "    # save figure\n",
    "    plt.savefig(figname, dpi = 300)"
   ]
  },
  {
   "cell_type": "code",
   "execution_count": null,
   "metadata": {},
   "outputs": [],
   "source": []
  }
 ],
 "metadata": {
  "kernelspec": {
   "display_name": "Python 3",
   "language": "python",
   "name": "python3"
  },
  "language_info": {
   "codemirror_mode": {
    "name": "ipython",
    "version": 3
   },
   "file_extension": ".py",
   "mimetype": "text/x-python",
   "name": "python",
   "nbconvert_exporter": "python",
   "pygments_lexer": "ipython3",
   "version": "3.6.5"
  }
 },
 "nbformat": 4,
 "nbformat_minor": 2
}
